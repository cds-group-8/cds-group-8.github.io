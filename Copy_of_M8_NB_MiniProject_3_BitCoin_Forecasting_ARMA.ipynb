{
  "nbformat": 4,
  "nbformat_minor": 0,
  "metadata": {
    "accelerator": "GPU",
    "colab": {
      "provenance": [],
      "include_colab_link": true
    },
    "kernelspec": {
      "display_name": "Python 3",
      "language": "python",
      "name": "python3"
    },
    "language_info": {
      "codemirror_mode": {
        "name": "ipython",
        "version": 3
      },
      "file_extension": ".py",
      "mimetype": "text/x-python",
      "name": "python",
      "nbconvert_exporter": "python",
      "pygments_lexer": "ipython3",
      "version": "3.6.9"
    }
  },
  "cells": [
    {
      "cell_type": "markdown",
      "metadata": {
        "id": "view-in-github",
        "colab_type": "text"
      },
      "source": [
        "<a href=\"https://colab.research.google.com/github/cds-group-8/cds-group-8.github.io/blob/main/Copy_of_M8_NB_MiniProject_3_BitCoin_Forecasting_ARMA.ipynb\" target=\"_parent\"><img src=\"https://colab.research.google.com/assets/colab-badge.svg\" alt=\"Open In Colab\"/></a>"
      ]
    },
    {
      "cell_type": "markdown",
      "metadata": {
        "id": "fTmYtLr3uZdt"
      },
      "source": [
        "# NPCI Upskilling - Data Science and Engineering Track\n",
        "\n",
        "## A program by IIITH and TalentSprint\n",
        "\n",
        "### Playground Challenge 4: BitCoin_Forecasting_ARMA [20 points]\n"
      ]
    },
    {
      "cell_type": "markdown",
      "source": [
        "##<b><font color=\"red\">Please run this solution notebook on your Google Colab T4 GPU runtime</font></b>\n",
        "\n",
        "To select the T4 GPU, follow these steps:\n",
        "\n",
        "Runtime >> Change runtime type >> T4 GPU >> save"
      ],
      "metadata": {
        "id": "3MTgXAf55iCe"
      }
    },
    {
      "cell_type": "markdown",
      "metadata": {
        "id": "8F0yiGzVukii"
      },
      "source": [
        "## Learning Objectives"
      ]
    },
    {
      "cell_type": "markdown",
      "metadata": {
        "id": "BbV5HORtukjG"
      },
      "source": [
        "At the end of the experiment, you will be able to :\n",
        "\n",
        "* perform EDA on time series data\n",
        "* analyze the auto correlation and partial auto correlation plots\n",
        "* implement the ARMA model and forecast the bit coin price"
      ]
    },
    {
      "cell_type": "markdown",
      "metadata": {
        "id": "1aCgCl1NukjI"
      },
      "source": [
        "## Dataset\n",
        "\n"
      ]
    },
    {
      "cell_type": "markdown",
      "metadata": {
        "id": "Yquw6ow7ukjJ"
      },
      "source": [
        "Bitcoin is a digital currency created in January 2009. It follows the ideas set out in a whitepaper by the mysterious and pseudonymous Satoshi Nakamoto. The identity of the person or persons who created the technology is still a mystery. Bitcoin offers the promise of lower transaction fees than traditional online payment mechanisms and, unlike government-issued currencies, it is operated by a decentralized authority.\n",
        "\n",
        "Data Description\n",
        "This dataset provides the history of daily prices of Bitcoin. The data starts from 17-Sep-2014 and is updated till 09-July-2021. All the column descriptions are provided below.\n",
        "\n",
        "* Date: Day/Month/Year\n",
        "* Open: Price from the first transaction of a trading day\n",
        "* High: Maximum price in a trading day\n",
        "* Low: Minimum price in a trading day\n",
        "* Close: Price from the last transaction of a trading day\n",
        "* Adj Close: Closing price adjusted to reflect the value after accounting for any corporate actions\n",
        "* Volume: Number of units traded in a day"
      ]
    },
    {
      "cell_type": "markdown",
      "metadata": {
        "id": "O-pBM-IaukjJ"
      },
      "source": [
        "## Problem Statement"
      ]
    },
    {
      "cell_type": "markdown",
      "metadata": {
        "id": "Dp_3vC7PukjK"
      },
      "source": [
        "Perform EDA and forecast the Bitcoin price using ARMA model on timeseries (bitcoin) data."
      ]
    },
    {
      "cell_type": "markdown",
      "metadata": {
        "id": "pe0uvQpGukjK"
      },
      "source": [
        "## Grading = 20 Points"
      ]
    },
    {
      "cell_type": "code",
      "metadata": {
        "id": "L85g97qnukjL",
        "cellView": "form",
        "colab": {
          "base_uri": "https://localhost:8080/"
        },
        "outputId": "867a2404-fda9-48a6-9508-5c7f320035dc"
      },
      "source": [
        "#@title Download Dataset\n",
        "!wget -qq !wget -qq https://cdn.iisc.talentsprint.com/CDS/MiniProjects/BTC.csv\n",
        "print(\"Dataset downloaded successfully!!\")"
      ],
      "execution_count": null,
      "outputs": [
        {
          "output_type": "stream",
          "name": "stdout",
          "text": [
            "Dataset downloaded successfully!!\n"
          ]
        }
      ]
    },
    {
      "cell_type": "markdown",
      "metadata": {
        "id": "xD5ZgpWjukjO"
      },
      "source": [
        "### Import required Packages"
      ]
    },
    {
      "cell_type": "code",
      "metadata": {
        "id": "34ccJLc6amaQ"
      },
      "source": [
        "import warnings\n",
        "warnings.simplefilter('ignore')\n",
        "import numpy as np\n",
        "import pandas as pd\n",
        "import seaborn as sns\n",
        "from matplotlib import pyplot as plt\n",
        "from math import sqrt\n",
        "from sklearn.metrics import mean_squared_error\n",
        "from statsmodels.tsa.arima_model import ARMA\n",
        "from statsmodels.tsa.stattools import adfuller\n",
        "from statsmodels.tsa.seasonal import seasonal_decompose\n",
        "from statsmodels.graphics.tsaplots import plot_acf\n",
        "from statsmodels.graphics.tsaplots import plot_pacf\n",
        "import statsmodels.api as sm\n",
        "import itertools"
      ],
      "execution_count": null,
      "outputs": []
    },
    {
      "cell_type": "markdown",
      "metadata": {
        "id": "XZeNVp8bEasM"
      },
      "source": [
        "### Load the data and perform EDA [4 points]\n",
        "\n",
        "Hint: Refer to this ['Bitcoin dataset EDA'](https://cdn.iisc.talentsprint.com/CDS/Assignments/Module6/M6_SNB_MiniProject_3_BitCoin_Forecasting_ARMA_Exploratory%20Data%20Analysis.pdf)"
      ]
    },
    {
      "cell_type": "code",
      "metadata": {
        "id": "DgpRk3T3blHj",
        "colab": {
          "base_uri": "https://localhost:8080/"
        },
        "outputId": "8b5d773c-72e4-4081-e146-fae8b3976001"
      },
      "source": [
        "# YOUR CODE HERE\n",
        "df= pd.read_csv('BTC.csv')\n",
        "print(df.head())\n",
        "print(df.shape)\n"
      ],
      "execution_count": null,
      "outputs": [
        {
          "output_type": "stream",
          "name": "stdout",
          "text": [
            "         Date        Open        High         Low       Close   Adj Close  \\\n",
            "0  2014-09-17  465.864014  468.174011  452.421997  457.334015  457.334015   \n",
            "1  2014-09-18  456.859985  456.859985  413.104004  424.440002  424.440002   \n",
            "2  2014-09-19  424.102997  427.834991  384.532013  394.795990  394.795990   \n",
            "3  2014-09-20  394.673004  423.295990  389.882996  408.903992  408.903992   \n",
            "4  2014-09-21  408.084991  412.425995  393.181000  398.821014  398.821014   \n",
            "\n",
            "       Volume  \n",
            "0  21056800.0  \n",
            "1  34483200.0  \n",
            "2  37919700.0  \n",
            "3  36863600.0  \n",
            "4  26580100.0  \n",
            "(2520, 7)\n"
          ]
        }
      ]
    },
    {
      "cell_type": "code",
      "source": [
        "print(df.isnull().sum())"
      ],
      "metadata": {
        "colab": {
          "base_uri": "https://localhost:8080/"
        },
        "id": "NnjFm66ODpL3",
        "outputId": "83a0c387-330b-42a7-f345-36577c9d2e64"
      },
      "execution_count": null,
      "outputs": [
        {
          "output_type": "stream",
          "name": "stdout",
          "text": [
            "Date         0\n",
            "Open         4\n",
            "High         4\n",
            "Low          4\n",
            "Close        4\n",
            "Adj Close    4\n",
            "Volume       4\n",
            "dtype: int64\n"
          ]
        }
      ]
    },
    {
      "cell_type": "code",
      "source": [
        "print(df[df.isnull().any(axis=1)])"
      ],
      "metadata": {
        "colab": {
          "base_uri": "https://localhost:8080/"
        },
        "id": "qguJ3Ym_FC95",
        "outputId": "d750943e-16eb-402d-cb86-960d27628f5d"
      },
      "execution_count": null,
      "outputs": [
        {
          "output_type": "stream",
          "name": "stdout",
          "text": [
            "            Date  Open  High  Low  Close  Adj Close  Volume\n",
            "2039  2020-04-17   NaN   NaN  NaN    NaN        NaN     NaN\n",
            "2214  2020-10-09   NaN   NaN  NaN    NaN        NaN     NaN\n",
            "2217  2020-10-12   NaN   NaN  NaN    NaN        NaN     NaN\n",
            "2218  2020-10-13   NaN   NaN  NaN    NaN        NaN     NaN\n"
          ]
        }
      ]
    },
    {
      "cell_type": "code",
      "source": [
        "df.dropna(inplace=True)\n",
        "print(df.isnull().sum())\n",
        "print(df.shape)"
      ],
      "metadata": {
        "colab": {
          "base_uri": "https://localhost:8080/"
        },
        "id": "efvJJwwOFJIM",
        "outputId": "e2f5e1fb-0793-4291-8e3e-c09a1e28bce2"
      },
      "execution_count": null,
      "outputs": [
        {
          "output_type": "stream",
          "name": "stdout",
          "text": [
            "Date         0\n",
            "Open         0\n",
            "High         0\n",
            "Low          0\n",
            "Close        0\n",
            "Adj Close    0\n",
            "Volume       0\n",
            "dtype: int64\n",
            "(2516, 7)\n"
          ]
        }
      ]
    },
    {
      "cell_type": "code",
      "source": [
        "Q1 = df['Close'].quantile(0.25)\n",
        "Q3 = df['Close'].quantile(0.75)\n",
        "IQR = Q3 - Q1\n",
        "\n",
        "lower_bound = Q1 - 1.5 * IQR\n",
        "upper_bound = Q3 + 1.5 * IQR\n",
        "\n",
        "outliers = df[(df['Close'] < lower_bound) | (df['Close'] > upper_bound)]\n",
        "\n",
        "print(f\"Q1 (25th percentile): {Q1}\")\n",
        "print(f\"Q3 (75th percentile): {Q3}\")\n",
        "print(f\"IQR (Interquartile Range): {IQR}\")\n",
        "print(f\"Lower Bound for Outliers: {lower_bound}\")\n",
        "print(f\"Upper Bound for Outliers: {upper_bound}\")\n",
        "\n",
        "print(\"\\nPotential Outliers based on IQR:\")\n",
        "display(outliers)"
      ],
      "metadata": {
        "colab": {
          "base_uri": "https://localhost:8080/",
          "height": 545
        },
        "id": "8iZKW-OLHd7i",
        "outputId": "8a90fbd5-7855-4963-8043-a4730a424f76"
      },
      "execution_count": null,
      "outputs": [
        {
          "output_type": "stream",
          "name": "stdout",
          "text": [
            "Q1 (25th percentile): 569.75875825\n",
            "Q3 (75th percentile): 9393.4086915\n",
            "IQR (Interquartile Range): 8823.64993325\n",
            "Lower Bound for Outliers: -12665.716141625\n",
            "Upper Bound for Outliers: 22628.883591375\n",
            "\n",
            "Potential Outliers based on IQR:\n"
          ]
        },
        {
          "output_type": "display_data",
          "data": {
            "text/plain": [
              "            Date          Open          High           Low         Close  \\\n",
              "2283  2020-12-17  21308.351563  23642.660156  21234.675781  22805.162109   \n",
              "2284  2020-12-18  22806.796875  23238.601563  22399.812500  23137.960938   \n",
              "2285  2020-12-19  23132.865234  24085.855469  22826.472656  23869.832031   \n",
              "2286  2020-12-20  23861.765625  24209.660156  23147.710938  23477.294922   \n",
              "2287  2020-12-21  23474.455078  24059.982422  22159.367188  22803.082031   \n",
              "...          ...           ...           ...           ...           ...   \n",
              "2515  2021-08-06  40865.867188  43271.660156  39932.179688  42816.500000   \n",
              "2516  2021-08-07  42832.796875  44689.859375  42618.566406  44555.800781   \n",
              "2517  2021-08-08  44574.437500  45282.351563  43331.910156  43798.117188   \n",
              "2518  2021-08-09  43791.925781  46456.832031  42848.687500  46365.402344   \n",
              "2519  2021-08-10  46274.191406  46503.171875  45359.714844  45421.683594   \n",
              "\n",
              "         Adj Close        Volume  \n",
              "2283  22805.162109  7.137861e+10  \n",
              "2284  23137.960938  4.038790e+10  \n",
              "2285  23869.832031  3.848755e+10  \n",
              "2286  23477.294922  3.784423e+10  \n",
              "2287  22803.082031  4.585271e+10  \n",
              "...            ...           ...  \n",
              "2515  42816.500000  3.822648e+10  \n",
              "2516  44555.800781  4.003086e+10  \n",
              "2517  43798.117188  3.630266e+10  \n",
              "2518  46365.402344  3.873408e+10  \n",
              "2519  45421.683594  3.662346e+10  \n",
              "\n",
              "[237 rows x 7 columns]"
            ],
            "text/html": [
              "\n",
              "  <div id=\"df-1c8a4f3e-8e38-4b36-87bc-af7f84066c15\" class=\"colab-df-container\">\n",
              "    <div>\n",
              "<style scoped>\n",
              "    .dataframe tbody tr th:only-of-type {\n",
              "        vertical-align: middle;\n",
              "    }\n",
              "\n",
              "    .dataframe tbody tr th {\n",
              "        vertical-align: top;\n",
              "    }\n",
              "\n",
              "    .dataframe thead th {\n",
              "        text-align: right;\n",
              "    }\n",
              "</style>\n",
              "<table border=\"1\" class=\"dataframe\">\n",
              "  <thead>\n",
              "    <tr style=\"text-align: right;\">\n",
              "      <th></th>\n",
              "      <th>Date</th>\n",
              "      <th>Open</th>\n",
              "      <th>High</th>\n",
              "      <th>Low</th>\n",
              "      <th>Close</th>\n",
              "      <th>Adj Close</th>\n",
              "      <th>Volume</th>\n",
              "    </tr>\n",
              "  </thead>\n",
              "  <tbody>\n",
              "    <tr>\n",
              "      <th>2283</th>\n",
              "      <td>2020-12-17</td>\n",
              "      <td>21308.351563</td>\n",
              "      <td>23642.660156</td>\n",
              "      <td>21234.675781</td>\n",
              "      <td>22805.162109</td>\n",
              "      <td>22805.162109</td>\n",
              "      <td>7.137861e+10</td>\n",
              "    </tr>\n",
              "    <tr>\n",
              "      <th>2284</th>\n",
              "      <td>2020-12-18</td>\n",
              "      <td>22806.796875</td>\n",
              "      <td>23238.601563</td>\n",
              "      <td>22399.812500</td>\n",
              "      <td>23137.960938</td>\n",
              "      <td>23137.960938</td>\n",
              "      <td>4.038790e+10</td>\n",
              "    </tr>\n",
              "    <tr>\n",
              "      <th>2285</th>\n",
              "      <td>2020-12-19</td>\n",
              "      <td>23132.865234</td>\n",
              "      <td>24085.855469</td>\n",
              "      <td>22826.472656</td>\n",
              "      <td>23869.832031</td>\n",
              "      <td>23869.832031</td>\n",
              "      <td>3.848755e+10</td>\n",
              "    </tr>\n",
              "    <tr>\n",
              "      <th>2286</th>\n",
              "      <td>2020-12-20</td>\n",
              "      <td>23861.765625</td>\n",
              "      <td>24209.660156</td>\n",
              "      <td>23147.710938</td>\n",
              "      <td>23477.294922</td>\n",
              "      <td>23477.294922</td>\n",
              "      <td>3.784423e+10</td>\n",
              "    </tr>\n",
              "    <tr>\n",
              "      <th>2287</th>\n",
              "      <td>2020-12-21</td>\n",
              "      <td>23474.455078</td>\n",
              "      <td>24059.982422</td>\n",
              "      <td>22159.367188</td>\n",
              "      <td>22803.082031</td>\n",
              "      <td>22803.082031</td>\n",
              "      <td>4.585271e+10</td>\n",
              "    </tr>\n",
              "    <tr>\n",
              "      <th>...</th>\n",
              "      <td>...</td>\n",
              "      <td>...</td>\n",
              "      <td>...</td>\n",
              "      <td>...</td>\n",
              "      <td>...</td>\n",
              "      <td>...</td>\n",
              "      <td>...</td>\n",
              "    </tr>\n",
              "    <tr>\n",
              "      <th>2515</th>\n",
              "      <td>2021-08-06</td>\n",
              "      <td>40865.867188</td>\n",
              "      <td>43271.660156</td>\n",
              "      <td>39932.179688</td>\n",
              "      <td>42816.500000</td>\n",
              "      <td>42816.500000</td>\n",
              "      <td>3.822648e+10</td>\n",
              "    </tr>\n",
              "    <tr>\n",
              "      <th>2516</th>\n",
              "      <td>2021-08-07</td>\n",
              "      <td>42832.796875</td>\n",
              "      <td>44689.859375</td>\n",
              "      <td>42618.566406</td>\n",
              "      <td>44555.800781</td>\n",
              "      <td>44555.800781</td>\n",
              "      <td>4.003086e+10</td>\n",
              "    </tr>\n",
              "    <tr>\n",
              "      <th>2517</th>\n",
              "      <td>2021-08-08</td>\n",
              "      <td>44574.437500</td>\n",
              "      <td>45282.351563</td>\n",
              "      <td>43331.910156</td>\n",
              "      <td>43798.117188</td>\n",
              "      <td>43798.117188</td>\n",
              "      <td>3.630266e+10</td>\n",
              "    </tr>\n",
              "    <tr>\n",
              "      <th>2518</th>\n",
              "      <td>2021-08-09</td>\n",
              "      <td>43791.925781</td>\n",
              "      <td>46456.832031</td>\n",
              "      <td>42848.687500</td>\n",
              "      <td>46365.402344</td>\n",
              "      <td>46365.402344</td>\n",
              "      <td>3.873408e+10</td>\n",
              "    </tr>\n",
              "    <tr>\n",
              "      <th>2519</th>\n",
              "      <td>2021-08-10</td>\n",
              "      <td>46274.191406</td>\n",
              "      <td>46503.171875</td>\n",
              "      <td>45359.714844</td>\n",
              "      <td>45421.683594</td>\n",
              "      <td>45421.683594</td>\n",
              "      <td>3.662346e+10</td>\n",
              "    </tr>\n",
              "  </tbody>\n",
              "</table>\n",
              "<p>237 rows × 7 columns</p>\n",
              "</div>\n",
              "    <div class=\"colab-df-buttons\">\n",
              "\n",
              "  <div class=\"colab-df-container\">\n",
              "    <button class=\"colab-df-convert\" onclick=\"convertToInteractive('df-1c8a4f3e-8e38-4b36-87bc-af7f84066c15')\"\n",
              "            title=\"Convert this dataframe to an interactive table.\"\n",
              "            style=\"display:none;\">\n",
              "\n",
              "  <svg xmlns=\"http://www.w3.org/2000/svg\" height=\"24px\" viewBox=\"0 -960 960 960\">\n",
              "    <path d=\"M120-120v-720h720v720H120Zm60-500h600v-160H180v160Zm220 220h160v-160H400v160Zm0 220h160v-160H400v160ZM180-400h160v-160H180v160Zm440 0h160v-160H620v160ZM180-180h160v-160H180v160Zm440 0h160v-160H620v160Z\"/>\n",
              "  </svg>\n",
              "    </button>\n",
              "\n",
              "  <style>\n",
              "    .colab-df-container {\n",
              "      display:flex;\n",
              "      gap: 12px;\n",
              "    }\n",
              "\n",
              "    .colab-df-convert {\n",
              "      background-color: #E8F0FE;\n",
              "      border: none;\n",
              "      border-radius: 50%;\n",
              "      cursor: pointer;\n",
              "      display: none;\n",
              "      fill: #1967D2;\n",
              "      height: 32px;\n",
              "      padding: 0 0 0 0;\n",
              "      width: 32px;\n",
              "    }\n",
              "\n",
              "    .colab-df-convert:hover {\n",
              "      background-color: #E2EBFA;\n",
              "      box-shadow: 0px 1px 2px rgba(60, 64, 67, 0.3), 0px 1px 3px 1px rgba(60, 64, 67, 0.15);\n",
              "      fill: #174EA6;\n",
              "    }\n",
              "\n",
              "    .colab-df-buttons div {\n",
              "      margin-bottom: 4px;\n",
              "    }\n",
              "\n",
              "    [theme=dark] .colab-df-convert {\n",
              "      background-color: #3B4455;\n",
              "      fill: #D2E3FC;\n",
              "    }\n",
              "\n",
              "    [theme=dark] .colab-df-convert:hover {\n",
              "      background-color: #434B5C;\n",
              "      box-shadow: 0px 1px 3px 1px rgba(0, 0, 0, 0.15);\n",
              "      filter: drop-shadow(0px 1px 2px rgba(0, 0, 0, 0.3));\n",
              "      fill: #FFFFFF;\n",
              "    }\n",
              "  </style>\n",
              "\n",
              "    <script>\n",
              "      const buttonEl =\n",
              "        document.querySelector('#df-1c8a4f3e-8e38-4b36-87bc-af7f84066c15 button.colab-df-convert');\n",
              "      buttonEl.style.display =\n",
              "        google.colab.kernel.accessAllowed ? 'block' : 'none';\n",
              "\n",
              "      async function convertToInteractive(key) {\n",
              "        const element = document.querySelector('#df-1c8a4f3e-8e38-4b36-87bc-af7f84066c15');\n",
              "        const dataTable =\n",
              "          await google.colab.kernel.invokeFunction('convertToInteractive',\n",
              "                                                    [key], {});\n",
              "        if (!dataTable) return;\n",
              "\n",
              "        const docLinkHtml = 'Like what you see? Visit the ' +\n",
              "          '<a target=\"_blank\" href=https://colab.research.google.com/notebooks/data_table.ipynb>data table notebook</a>'\n",
              "          + ' to learn more about interactive tables.';\n",
              "        element.innerHTML = '';\n",
              "        dataTable['output_type'] = 'display_data';\n",
              "        await google.colab.output.renderOutput(dataTable, element);\n",
              "        const docLink = document.createElement('div');\n",
              "        docLink.innerHTML = docLinkHtml;\n",
              "        element.appendChild(docLink);\n",
              "      }\n",
              "    </script>\n",
              "  </div>\n",
              "\n",
              "\n",
              "    <div id=\"df-94e2fd25-fcba-40db-af7c-cd09b5722e86\">\n",
              "      <button class=\"colab-df-quickchart\" onclick=\"quickchart('df-94e2fd25-fcba-40db-af7c-cd09b5722e86')\"\n",
              "                title=\"Suggest charts\"\n",
              "                style=\"display:none;\">\n",
              "\n",
              "<svg xmlns=\"http://www.w3.org/2000/svg\" height=\"24px\"viewBox=\"0 0 24 24\"\n",
              "     width=\"24px\">\n",
              "    <g>\n",
              "        <path d=\"M19 3H5c-1.1 0-2 .9-2 2v14c0 1.1.9 2 2 2h14c1.1 0 2-.9 2-2V5c0-1.1-.9-2-2-2zM9 17H7v-7h2v7zm4 0h-2V7h2v10zm4 0h-2v-4h2v4z\"/>\n",
              "    </g>\n",
              "</svg>\n",
              "      </button>\n",
              "\n",
              "<style>\n",
              "  .colab-df-quickchart {\n",
              "      --bg-color: #E8F0FE;\n",
              "      --fill-color: #1967D2;\n",
              "      --hover-bg-color: #E2EBFA;\n",
              "      --hover-fill-color: #174EA6;\n",
              "      --disabled-fill-color: #AAA;\n",
              "      --disabled-bg-color: #DDD;\n",
              "  }\n",
              "\n",
              "  [theme=dark] .colab-df-quickchart {\n",
              "      --bg-color: #3B4455;\n",
              "      --fill-color: #D2E3FC;\n",
              "      --hover-bg-color: #434B5C;\n",
              "      --hover-fill-color: #FFFFFF;\n",
              "      --disabled-bg-color: #3B4455;\n",
              "      --disabled-fill-color: #666;\n",
              "  }\n",
              "\n",
              "  .colab-df-quickchart {\n",
              "    background-color: var(--bg-color);\n",
              "    border: none;\n",
              "    border-radius: 50%;\n",
              "    cursor: pointer;\n",
              "    display: none;\n",
              "    fill: var(--fill-color);\n",
              "    height: 32px;\n",
              "    padding: 0;\n",
              "    width: 32px;\n",
              "  }\n",
              "\n",
              "  .colab-df-quickchart:hover {\n",
              "    background-color: var(--hover-bg-color);\n",
              "    box-shadow: 0 1px 2px rgba(60, 64, 67, 0.3), 0 1px 3px 1px rgba(60, 64, 67, 0.15);\n",
              "    fill: var(--button-hover-fill-color);\n",
              "  }\n",
              "\n",
              "  .colab-df-quickchart-complete:disabled,\n",
              "  .colab-df-quickchart-complete:disabled:hover {\n",
              "    background-color: var(--disabled-bg-color);\n",
              "    fill: var(--disabled-fill-color);\n",
              "    box-shadow: none;\n",
              "  }\n",
              "\n",
              "  .colab-df-spinner {\n",
              "    border: 2px solid var(--fill-color);\n",
              "    border-color: transparent;\n",
              "    border-bottom-color: var(--fill-color);\n",
              "    animation:\n",
              "      spin 1s steps(1) infinite;\n",
              "  }\n",
              "\n",
              "  @keyframes spin {\n",
              "    0% {\n",
              "      border-color: transparent;\n",
              "      border-bottom-color: var(--fill-color);\n",
              "      border-left-color: var(--fill-color);\n",
              "    }\n",
              "    20% {\n",
              "      border-color: transparent;\n",
              "      border-left-color: var(--fill-color);\n",
              "      border-top-color: var(--fill-color);\n",
              "    }\n",
              "    30% {\n",
              "      border-color: transparent;\n",
              "      border-left-color: var(--fill-color);\n",
              "      border-top-color: var(--fill-color);\n",
              "      border-right-color: var(--fill-color);\n",
              "    }\n",
              "    40% {\n",
              "      border-color: transparent;\n",
              "      border-right-color: var(--fill-color);\n",
              "      border-top-color: var(--fill-color);\n",
              "    }\n",
              "    60% {\n",
              "      border-color: transparent;\n",
              "      border-right-color: var(--fill-color);\n",
              "    }\n",
              "    80% {\n",
              "      border-color: transparent;\n",
              "      border-right-color: var(--fill-color);\n",
              "      border-bottom-color: var(--fill-color);\n",
              "    }\n",
              "    90% {\n",
              "      border-color: transparent;\n",
              "      border-bottom-color: var(--fill-color);\n",
              "    }\n",
              "  }\n",
              "</style>\n",
              "\n",
              "      <script>\n",
              "        async function quickchart(key) {\n",
              "          const quickchartButtonEl =\n",
              "            document.querySelector('#' + key + ' button');\n",
              "          quickchartButtonEl.disabled = true;  // To prevent multiple clicks.\n",
              "          quickchartButtonEl.classList.add('colab-df-spinner');\n",
              "          try {\n",
              "            const charts = await google.colab.kernel.invokeFunction(\n",
              "                'suggestCharts', [key], {});\n",
              "          } catch (error) {\n",
              "            console.error('Error during call to suggestCharts:', error);\n",
              "          }\n",
              "          quickchartButtonEl.classList.remove('colab-df-spinner');\n",
              "          quickchartButtonEl.classList.add('colab-df-quickchart-complete');\n",
              "        }\n",
              "        (() => {\n",
              "          let quickchartButtonEl =\n",
              "            document.querySelector('#df-94e2fd25-fcba-40db-af7c-cd09b5722e86 button');\n",
              "          quickchartButtonEl.style.display =\n",
              "            google.colab.kernel.accessAllowed ? 'block' : 'none';\n",
              "        })();\n",
              "      </script>\n",
              "    </div>\n",
              "\n",
              "  <div id=\"id_50ff5196-65c6-4755-aae7-1111c7886f31\">\n",
              "    <style>\n",
              "      .colab-df-generate {\n",
              "        background-color: #E8F0FE;\n",
              "        border: none;\n",
              "        border-radius: 50%;\n",
              "        cursor: pointer;\n",
              "        display: none;\n",
              "        fill: #1967D2;\n",
              "        height: 32px;\n",
              "        padding: 0 0 0 0;\n",
              "        width: 32px;\n",
              "      }\n",
              "\n",
              "      .colab-df-generate:hover {\n",
              "        background-color: #E2EBFA;\n",
              "        box-shadow: 0px 1px 2px rgba(60, 64, 67, 0.3), 0px 1px 3px 1px rgba(60, 64, 67, 0.15);\n",
              "        fill: #174EA6;\n",
              "      }\n",
              "\n",
              "      [theme=dark] .colab-df-generate {\n",
              "        background-color: #3B4455;\n",
              "        fill: #D2E3FC;\n",
              "      }\n",
              "\n",
              "      [theme=dark] .colab-df-generate:hover {\n",
              "        background-color: #434B5C;\n",
              "        box-shadow: 0px 1px 3px 1px rgba(0, 0, 0, 0.15);\n",
              "        filter: drop-shadow(0px 1px 2px rgba(0, 0, 0, 0.3));\n",
              "        fill: #FFFFFF;\n",
              "      }\n",
              "    </style>\n",
              "    <button class=\"colab-df-generate\" onclick=\"generateWithVariable('outliers')\"\n",
              "            title=\"Generate code using this dataframe.\"\n",
              "            style=\"display:none;\">\n",
              "\n",
              "  <svg xmlns=\"http://www.w3.org/2000/svg\" height=\"24px\"viewBox=\"0 0 24 24\"\n",
              "       width=\"24px\">\n",
              "    <path d=\"M7,19H8.4L18.45,9,17,7.55,7,17.6ZM5,21V16.75L18.45,3.32a2,2,0,0,1,2.83,0l1.4,1.43a1.91,1.91,0,0,1,.58,1.4,1.91,1.91,0,0,1-.58,1.4L9.25,21ZM18.45,9,17,7.55Zm-12,3A5.31,5.31,0,0,0,4.9,8.1,5.31,5.31,0,0,0,1,6.5,5.31,5.31,0,0,0,4.9,4.9,5.31,5.31,0,0,0,6.5,1,5.31,5.31,0,0,0,8.1,4.9,5.31,5.31,0,0,0,12,6.5,5.46,5.46,0,0,0,6.5,12Z\"/>\n",
              "  </svg>\n",
              "    </button>\n",
              "    <script>\n",
              "      (() => {\n",
              "      const buttonEl =\n",
              "        document.querySelector('#id_50ff5196-65c6-4755-aae7-1111c7886f31 button.colab-df-generate');\n",
              "      buttonEl.style.display =\n",
              "        google.colab.kernel.accessAllowed ? 'block' : 'none';\n",
              "\n",
              "      buttonEl.onclick = () => {\n",
              "        google.colab.notebook.generateWithVariable('outliers');\n",
              "      }\n",
              "      })();\n",
              "    </script>\n",
              "  </div>\n",
              "\n",
              "    </div>\n",
              "  </div>\n"
            ],
            "application/vnd.google.colaboratory.intrinsic+json": {
              "type": "dataframe",
              "variable_name": "outliers",
              "repr_error": "0"
            }
          },
          "metadata": {}
        }
      ]
    },
    {
      "cell_type": "markdown",
      "metadata": {
        "id": "-bvYh6GcCnAw"
      },
      "source": [
        "#### Analyze the correlation (heatmap) of all the features"
      ]
    },
    {
      "cell_type": "code",
      "metadata": {
        "id": "ID6sVXo2B2tA",
        "colab": {
          "base_uri": "https://localhost:8080/",
          "height": 699
        },
        "outputId": "cbdf08b2-e9ff-42fc-db9b-71b15fe6b040"
      },
      "source": [
        "# YOUR CODE HERE\n",
        "plt.figure(figsize=(10, 8))\n",
        "sns.heatmap(df.drop('Date', axis=1).corr(), annot=True, cmap='coolwarm', fmt=\".2f\")\n",
        "plt.title('Correlation Heatmap of Bitcoin Data')\n",
        "plt.show()"
      ],
      "execution_count": null,
      "outputs": [
        {
          "output_type": "display_data",
          "data": {
            "text/plain": [
              "<Figure size 1000x800 with 2 Axes>"
            ],
            "image/png": "[encoded data removed]"
          },
          "metadata": {}
        }
      ]
    },
    {
      "cell_type": "markdown",
      "metadata": {
        "id": "bPHv--vLsX_h"
      },
      "source": [
        "### Test the Stationarity using Augmented Dicky Fuller Test [2 point]\n",
        "\n",
        "The Augmented Dicky Fuller test is a type of statistical test called a unit root test.\n",
        "\n",
        "Hint: [tsa.stattools.adfuller](https://www.statsmodels.org/dev/generated/statsmodels.tsa.stattools.adfuller.html)"
      ]
    },
    {
      "cell_type": "code",
      "metadata": {
        "id": "lcAwUWU2vCBH",
        "colab": {
          "base_uri": "https://localhost:8080/",
          "height": 475
        },
        "outputId": "a077068b-ceb5-496c-e585-84b7f3e8cca4"
      },
      "source": [
        "# YOUR CODE HERE\n",
        "plt.figure(figsize=(12, 6))\n",
        "plt.plot(df['Date'], df['Close'])\n",
        "plt.title('Bitcoin Close Price Over Time')\n",
        "plt.xlabel('Date')\n",
        "plt.ylabel('Close Price')\n",
        "plt.xticks(rotation=45)\n",
        "plt.tight_layout()\n",
        "plt.show()\n"
      ],
      "execution_count": 9,
      "outputs": [
        {
          "output_type": "display_data",
          "data": {
            "text/plain": [
              "<Figure size 1200x600 with 1 Axes>"
            ],
            "image/png": "[encoded data removed]"
          },
          "metadata": {}
        }
      ]
    },
    {
      "cell_type": "code",
      "source": [
        "# Perform the Augmented Dickey-Fuller test on the original 'Close' price\n",
        "result = adfuller(df['Close'])\n",
        "\n",
        "# Print the results\n",
        "print('ADF Statistic: %f' % result[0])\n",
        "print('p-value: %f' % result[1])\n",
        "print('Critical Values:')\n",
        "for key, value in result[4].items():\n",
        "    print('\\t%s: %.3f' % (key, value))\n",
        "\n",
        "if result[1] <= 0.05:\n",
        "    print(\"\\nResult: The time series is likely stationary (reject the null hypothesis).\")\n",
        "else:\n",
        "    print(\"\\nResult: The time series is likely non-stationary (fail to reject the null hypothesis).\")"
      ],
      "metadata": {
        "colab": {
          "base_uri": "https://localhost:8080/"
        },
        "id": "K8MYUth6udm_",
        "outputId": "41966c24-27ed-4eea-c3cb-e039b10bcf73"
      },
      "execution_count": 10,
      "outputs": [
        {
          "output_type": "stream",
          "name": "stdout",
          "text": [
            "ADF Statistic: -0.038593\n",
            "p-value: 0.955222\n",
            "Critical Values:\n",
            "\t1%: -3.433\n",
            "\t5%: -2.863\n",
            "\t10%: -2.567\n",
            "\n",
            "Result: The time series is likely non-stationary (fail to reject the null hypothesis).\n"
          ]
        }
      ]
    },
    {
      "cell_type": "markdown",
      "metadata": {
        "id": "FjSWnRw_GyJz"
      },
      "source": [
        "### Identify the trends and seasonality from the given time series data [4 points]\n",
        "\n",
        "* Apply seasonal decompose and plot the results\n",
        "* Check the stationarity of data using rolling mean and rolling standard deviation.\n",
        "* Make the time series data stationary\n",
        "  * Apply a log transformation to reduce the variance of the series\n",
        "  * Eliminate the Trend and Seasonality by Differencing\n",
        "\n",
        "**Note:** Ensure timeseries without NaN, inf, -inf values, Replace with 0 if found.\n",
        "\n",
        "Read more about stationarity of a timeseries in the following [link](https://machinelearningmastery.com/time-series-data-stationary-python/)"
      ]
    },
    {
      "cell_type": "code",
      "metadata": {
        "id": "yP2n5fltu3ov"
      },
      "source": [
        "# YOUR CODE HERE"
      ],
      "execution_count": null,
      "outputs": []
    },
    {
      "cell_type": "markdown",
      "metadata": {
        "id": "F0kAS7DZaYyK"
      },
      "source": [
        "### Test the Stationarity using Augmented Dicky Fuller Test [2 point]\n",
        "\n",
        "Verify the stationarity post differencing, using ADF\n",
        "\n",
        "Hint: [tsa.stattools.adfuller](https://www.statsmodels.org/dev/generated/statsmodels.tsa.stattools.adfuller.html)"
      ]
    },
    {
      "cell_type": "code",
      "metadata": {
        "id": "XB9rOyjYacPl"
      },
      "source": [
        "# YOUR CODE HERE"
      ],
      "execution_count": null,
      "outputs": []
    },
    {
      "cell_type": "markdown",
      "metadata": {
        "id": "FMVQqqmyXWMB"
      },
      "source": [
        "### Auto Correlation Plot [2 point]\n",
        "\n",
        "Autocorrelation refers to the degree of correlation between the values of the same variables across different observations in the data.  The concept of autocorrelation is most often discussed in the context of time series data in which observations occur at different points in time.\n",
        "\n",
        "* Plot the auto correlation function (ACF and PACF)\n",
        "* Analyse ACF and PACF plots and define AR (p) and MA(q) terms"
      ]
    },
    {
      "cell_type": "code",
      "metadata": {
        "id": "t2kAycBzY6E8"
      },
      "source": [
        "# YOUR CODE HERE"
      ],
      "execution_count": null,
      "outputs": []
    },
    {
      "cell_type": "markdown",
      "metadata": {
        "id": "WM0lVx31qTDP"
      },
      "source": [
        "### Train the Auto Regressive model [2 point]\n",
        "\n",
        "Hint: sm.tsa.AR()"
      ]
    },
    {
      "cell_type": "code",
      "metadata": {
        "id": "ix6wR-SLvkV1"
      },
      "source": [
        "# YOUR CODE HERE"
      ],
      "execution_count": null,
      "outputs": []
    },
    {
      "cell_type": "markdown",
      "metadata": {
        "id": "tbIawRCsvwpI"
      },
      "source": [
        "### ARMA Model [2 point]\n",
        "\n",
        "* Train the ARMA model on timeseries data and print AIC value"
      ]
    },
    {
      "cell_type": "code",
      "metadata": {
        "id": "CBYKrNu2YLLq"
      },
      "source": [
        "# YOUR CODE HERE for ARIMA Model"
      ],
      "execution_count": null,
      "outputs": []
    },
    {
      "cell_type": "markdown",
      "metadata": {
        "id": "6z4_RyrvcBP1"
      },
      "source": [
        "#### Plot the predictions for timeseries data [2 point]"
      ]
    },
    {
      "cell_type": "code",
      "metadata": {
        "id": "27WeG7T-tb3b"
      },
      "source": [
        "# YOUR CODE HERE"
      ],
      "execution_count": null,
      "outputs": []
    },
    {
      "cell_type": "markdown",
      "metadata": {
        "id": "OsPzbc5rwJWm"
      },
      "source": [
        "### Report Analysis\n",
        "\n",
        "* Discuss how sudden effects of bitcoin price affects the model parameters\n",
        "* State your observations about the trend and seasonality of the timeseries data\n",
        "* Discuss how you selected ARMA (p and q) terms.\n",
        "* Interpret the AIC value obtained for the ARMA model"
      ]
    }
  ]
}